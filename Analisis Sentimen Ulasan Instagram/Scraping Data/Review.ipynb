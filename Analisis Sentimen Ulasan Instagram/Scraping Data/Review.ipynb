{
  "cells": [
    {
      "cell_type": "code",
      "execution_count": 1,
      "metadata": {
        "colab": {
          "base_uri": "https://localhost:8080/"
        },
        "id": "EA20ZA4hIVUS",
        "outputId": "d4bad388-f272-4c8f-c572-59725e914403"
      },
      "outputs": [
        {
          "name": "stderr",
          "output_type": "stream",
          "text": [
            "ERROR: Invalid requirement: '#'\n",
            "\n",
            "[notice] A new release of pip is available: 23.3.1 -> 24.3.1\n",
            "[notice] To update, run: python.exe -m pip install --upgrade pip\n"
          ]
        }
      ],
      "source": [
        "!pip install google-play-scraper # Installs the google-play-scraper package\n",
        "from google_play_scraper import reviews, Sort # Imports necessary functions from the package\n",
        "import pandas as pd # Imports pandas for data manipulation"
      ]
    },
    {
      "cell_type": "code",
      "execution_count": 2,
      "metadata": {
        "colab": {
          "base_uri": "https://localhost:8080/"
        },
        "id": "6Y8y2nlkIVUV",
        "outputId": "b68b2bd2-e240-4f21-9b9d-1f3b48d118e5"
      },
      "outputs": [
        {
          "name": "stdout",
          "output_type": "stream",
          "text": [
            "Pengambilan data selesai\n"
          ]
        }
      ],
      "source": [
        "# Masukkan ID aplikasi (dapat ditemukan di URL aplikasi)\n",
        "app_id = \"com.instagram.android\"\n",
        "\n",
        "# Ambil ulasan\n",
        "result, _ = reviews(\n",
        "    app_id,\n",
        "    lang='id', # Bahasa (contoh: Indonesia)\n",
        "    country='id', # Lokasi (contoh: Indonesia)\n",
        "    sort=Sort.MOST_RELEVANT, # Sortir berdasarkan ulasan terbaru\n",
        "    count=1000 # Jumlah ulasan yang diambil\n",
        ")\n",
        "\n",
        "print('Pengambilan data selesai')\n"
      ]
    },
    {
      "cell_type": "code",
      "execution_count": 3,
      "metadata": {
        "colab": {
          "base_uri": "https://localhost:8080/",
          "height": 206
        },
        "id": "K2L-VrCODDeY",
        "outputId": "5dfaacd2-66d9-4f28-9e01-9d3f6943ae51"
      },
      "outputs": [
        {
          "data": {
            "text/html": [
              "<div>\n",
              "<style scoped>\n",
              "    .dataframe tbody tr th:only-of-type {\n",
              "        vertical-align: middle;\n",
              "    }\n",
              "\n",
              "    .dataframe tbody tr th {\n",
              "        vertical-align: top;\n",
              "    }\n",
              "\n",
              "    .dataframe thead th {\n",
              "        text-align: right;\n",
              "    }\n",
              "</style>\n",
              "<table border=\"1\" class=\"dataframe\">\n",
              "  <thead>\n",
              "    <tr style=\"text-align: right;\">\n",
              "      <th></th>\n",
              "      <th>userName</th>\n",
              "      <th>content</th>\n",
              "      <th>score</th>\n",
              "      <th>at</th>\n",
              "    </tr>\n",
              "  </thead>\n",
              "  <tbody>\n",
              "    <tr>\n",
              "      <th>909</th>\n",
              "      <td>Su Wignyo</td>\n",
              "      <td>Gatau ig skrng banyak bug nya. Mulai dari, pos...</td>\n",
              "      <td>3</td>\n",
              "      <td>2024-07-08 14:28:56</td>\n",
              "    </tr>\n",
              "    <tr>\n",
              "      <th>897</th>\n",
              "      <td>One ST</td>\n",
              "      <td>Tolong diperbaiki dong bug suara yg dipostinga...</td>\n",
              "      <td>2</td>\n",
              "      <td>2024-07-10 17:44:34</td>\n",
              "    </tr>\n",
              "    <tr>\n",
              "      <th>915</th>\n",
              "      <td>Karina Ramadhani</td>\n",
              "      <td>gimana ya, ig makin kesini makin banyak bug ny...</td>\n",
              "      <td>1</td>\n",
              "      <td>2024-07-12 09:55:56</td>\n",
              "    </tr>\n",
              "    <tr>\n",
              "      <th>905</th>\n",
              "      <td>Cantika Fadiya Adillah</td>\n",
              "      <td>Kenapa ya akun Instagram saya ketiga²nya jika ...</td>\n",
              "      <td>2</td>\n",
              "      <td>2024-07-13 22:19:50</td>\n",
              "    </tr>\n",
              "    <tr>\n",
              "      <th>901</th>\n",
              "      <td>Vivo New</td>\n",
              "      <td>Saya suka intagram begitu banyak video bermanf...</td>\n",
              "      <td>4</td>\n",
              "      <td>2024-07-14 08:34:27</td>\n",
              "    </tr>\n",
              "  </tbody>\n",
              "</table>\n",
              "</div>"
            ],
            "text/plain": [
              "                   userName  \\\n",
              "909               Su Wignyo   \n",
              "897                  One ST   \n",
              "915        Karina Ramadhani   \n",
              "905  Cantika Fadiya Adillah   \n",
              "901                Vivo New   \n",
              "\n",
              "                                               content  score  \\\n",
              "909  Gatau ig skrng banyak bug nya. Mulai dari, pos...      3   \n",
              "897  Tolong diperbaiki dong bug suara yg dipostinga...      2   \n",
              "915  gimana ya, ig makin kesini makin banyak bug ny...      1   \n",
              "905  Kenapa ya akun Instagram saya ketiga²nya jika ...      2   \n",
              "901  Saya suka intagram begitu banyak video bermanf...      4   \n",
              "\n",
              "                     at  \n",
              "909 2024-07-08 14:28:56  \n",
              "897 2024-07-10 17:44:34  \n",
              "915 2024-07-12 09:55:56  \n",
              "905 2024-07-13 22:19:50  \n",
              "901 2024-07-14 08:34:27  "
            ]
          },
          "execution_count": 3,
          "metadata": {},
          "output_type": "execute_result"
        }
      ],
      "source": [
        "import numpy as np\n",
        "data = pd.DataFrame(np.array(result), columns=['review'])\n",
        "data = data.join(pd.DataFrame(data.pop('review').tolist()))\n",
        "scrappeddata1 = data[['userName','content','score','at']]\n",
        "sorteddata = scrappeddata1.sort_values(by='at', ascending=True) #Sort by Newest, change to True if you want to sort by Oldest.\n",
        "sorteddata.head()"
      ]
    },
    {
      "cell_type": "code",
      "execution_count": 4,
      "metadata": {
        "colab": {
          "base_uri": "https://localhost:8080/",
          "height": 423
        },
        "id": "oZOLkfr1Dvxc",
        "outputId": "075bdd75-3a20-42cc-c123-cbf8c6a0010a"
      },
      "outputs": [],
      "source": [
        "def sentimen(label):\n",
        "    if label <= 2:\n",
        "        return 'negatif'\n",
        "    elif label == 3:\n",
        "        return 'netral'\n",
        "    else:\n",
        "        return 'positif'\n",
        "sorteddata['sentiment'] = sorteddata['score'].apply(sentimen)\n",
        "df = sorteddata[['userName','content','sentiment','at']]"
      ]
    },
    {
      "cell_type": "code",
      "execution_count": 5,
      "metadata": {},
      "outputs": [
        {
          "data": {
            "text/html": [
              "<div>\n",
              "<style scoped>\n",
              "    .dataframe tbody tr th:only-of-type {\n",
              "        vertical-align: middle;\n",
              "    }\n",
              "\n",
              "    .dataframe tbody tr th {\n",
              "        vertical-align: top;\n",
              "    }\n",
              "\n",
              "    .dataframe thead th {\n",
              "        text-align: right;\n",
              "    }\n",
              "</style>\n",
              "<table border=\"1\" class=\"dataframe\">\n",
              "  <thead>\n",
              "    <tr style=\"text-align: right;\">\n",
              "      <th></th>\n",
              "      <th>userName</th>\n",
              "      <th>content</th>\n",
              "      <th>sentiment</th>\n",
              "      <th>at</th>\n",
              "    </tr>\n",
              "  </thead>\n",
              "  <tbody>\n",
              "    <tr>\n",
              "      <th>909</th>\n",
              "      <td>Su Wignyo</td>\n",
              "      <td>Gatau ig skrng banyak bug nya. Mulai dari, pos...</td>\n",
              "      <td>netral</td>\n",
              "      <td>2024-07-08 14:28:56</td>\n",
              "    </tr>\n",
              "    <tr>\n",
              "      <th>897</th>\n",
              "      <td>One ST</td>\n",
              "      <td>Tolong diperbaiki dong bug suara yg dipostinga...</td>\n",
              "      <td>negatif</td>\n",
              "      <td>2024-07-10 17:44:34</td>\n",
              "    </tr>\n",
              "    <tr>\n",
              "      <th>915</th>\n",
              "      <td>Karina Ramadhani</td>\n",
              "      <td>gimana ya, ig makin kesini makin banyak bug ny...</td>\n",
              "      <td>negatif</td>\n",
              "      <td>2024-07-12 09:55:56</td>\n",
              "    </tr>\n",
              "    <tr>\n",
              "      <th>905</th>\n",
              "      <td>Cantika Fadiya Adillah</td>\n",
              "      <td>Kenapa ya akun Instagram saya ketiga²nya jika ...</td>\n",
              "      <td>negatif</td>\n",
              "      <td>2024-07-13 22:19:50</td>\n",
              "    </tr>\n",
              "    <tr>\n",
              "      <th>901</th>\n",
              "      <td>Vivo New</td>\n",
              "      <td>Saya suka intagram begitu banyak video bermanf...</td>\n",
              "      <td>positif</td>\n",
              "      <td>2024-07-14 08:34:27</td>\n",
              "    </tr>\n",
              "    <tr>\n",
              "      <th>...</th>\n",
              "      <td>...</td>\n",
              "      <td>...</td>\n",
              "      <td>...</td>\n",
              "      <td>...</td>\n",
              "    </tr>\n",
              "    <tr>\n",
              "      <th>51</th>\n",
              "      <td>Muhammad Zainul Arifin</td>\n",
              "      <td>Sangat membantu dalam informasi dan komunikasi...</td>\n",
              "      <td>positif</td>\n",
              "      <td>2024-12-19 21:12:54</td>\n",
              "    </tr>\n",
              "    <tr>\n",
              "      <th>4</th>\n",
              "      <td>Naufal Mauffa</td>\n",
              "      <td>tolong deh diperbaiki bugnya kenapa setiap say...</td>\n",
              "      <td>negatif</td>\n",
              "      <td>2024-12-19 21:15:02</td>\n",
              "    </tr>\n",
              "    <tr>\n",
              "      <th>508</th>\n",
              "      <td>ABS 10</td>\n",
              "      <td>Tolong berikan fitur untuk menyembunyikan juml...</td>\n",
              "      <td>positif</td>\n",
              "      <td>2024-12-19 21:30:39</td>\n",
              "    </tr>\n",
              "    <tr>\n",
              "      <th>121</th>\n",
              "      <td>agung saputra</td>\n",
              "      <td>Bagusin dlu Bugnya, setiap mau post, malah nun...</td>\n",
              "      <td>positif</td>\n",
              "      <td>2024-12-19 22:17:07</td>\n",
              "    </tr>\n",
              "    <tr>\n",
              "      <th>155</th>\n",
              "      <td>Siti Nur Aisyah</td>\n",
              "      <td>Fitur izinkan menambahkan postingan kok dihila...</td>\n",
              "      <td>positif</td>\n",
              "      <td>2024-12-19 23:15:32</td>\n",
              "    </tr>\n",
              "  </tbody>\n",
              "</table>\n",
              "<p>1000 rows × 4 columns</p>\n",
              "</div>"
            ],
            "text/plain": [
              "                   userName  \\\n",
              "909               Su Wignyo   \n",
              "897                  One ST   \n",
              "915        Karina Ramadhani   \n",
              "905  Cantika Fadiya Adillah   \n",
              "901                Vivo New   \n",
              "..                      ...   \n",
              "51   Muhammad Zainul Arifin   \n",
              "4             Naufal Mauffa   \n",
              "508                  ABS 10   \n",
              "121           agung saputra   \n",
              "155         Siti Nur Aisyah   \n",
              "\n",
              "                                               content sentiment  \\\n",
              "909  Gatau ig skrng banyak bug nya. Mulai dari, pos...    netral   \n",
              "897  Tolong diperbaiki dong bug suara yg dipostinga...   negatif   \n",
              "915  gimana ya, ig makin kesini makin banyak bug ny...   negatif   \n",
              "905  Kenapa ya akun Instagram saya ketiga²nya jika ...   negatif   \n",
              "901  Saya suka intagram begitu banyak video bermanf...   positif   \n",
              "..                                                 ...       ...   \n",
              "51   Sangat membantu dalam informasi dan komunikasi...   positif   \n",
              "4    tolong deh diperbaiki bugnya kenapa setiap say...   negatif   \n",
              "508  Tolong berikan fitur untuk menyembunyikan juml...   positif   \n",
              "121  Bagusin dlu Bugnya, setiap mau post, malah nun...   positif   \n",
              "155  Fitur izinkan menambahkan postingan kok dihila...   positif   \n",
              "\n",
              "                     at  \n",
              "909 2024-07-08 14:28:56  \n",
              "897 2024-07-10 17:44:34  \n",
              "915 2024-07-12 09:55:56  \n",
              "905 2024-07-13 22:19:50  \n",
              "901 2024-07-14 08:34:27  \n",
              "..                  ...  \n",
              "51  2024-12-19 21:12:54  \n",
              "4   2024-12-19 21:15:02  \n",
              "508 2024-12-19 21:30:39  \n",
              "121 2024-12-19 22:17:07  \n",
              "155 2024-12-19 23:15:32  \n",
              "\n",
              "[1000 rows x 4 columns]"
            ]
          },
          "execution_count": 5,
          "metadata": {},
          "output_type": "execute_result"
        }
      ],
      "source": [
        "df"
      ]
    },
    {
      "cell_type": "code",
      "execution_count": 6,
      "metadata": {
        "id": "pLOS1Q-0IVUZ"
      },
      "outputs": [],
      "source": [
        "df.to_csv('../Review Instagram 2024.csv',index=False)"
      ]
    }
  ],
  "metadata": {
    "colab": {
      "provenance": []
    },
    "kernelspec": {
      "display_name": "Python 3",
      "language": "python",
      "name": "python3"
    },
    "language_info": {
      "codemirror_mode": {
        "name": "ipython",
        "version": 3
      },
      "file_extension": ".py",
      "mimetype": "text/x-python",
      "name": "python",
      "nbconvert_exporter": "python",
      "pygments_lexer": "ipython3",
      "version": "3.10.7"
    }
  },
  "nbformat": 4,
  "nbformat_minor": 0
}
